{
 "cells": [
  {
   "cell_type": "markdown",
   "metadata": {},
   "source": [
    "# Dallas Restaurants: Customer reviews and health inspection scores\n",
    "\n",
    "Using information from Dallas Open Data, Google Reviews, and Yelp Reviews, we set out to investigate relationships between these data sets.\n",
    "\n",
    "### Hypothesis:\n",
    "    - Do higher yelp or google reviews have a positive correlation with health inspection scores found on Dallas open data?\n",
    "\n",
    "### Null Hypothesis: \n",
    "    - Do higher yelp or google reviews not have a positive correlation with health inspection scores found on \n",
    "    Dallas open data?"
   ]
  },
  {
   "cell_type": "code",
   "execution_count": null,
   "metadata": {},
   "outputs": [],
   "source": [
    "import matplotlib as plt\n",
    "import pandas as pd\n",
    "import scipy.stats as stats\n",
    "import numpy as np"
   ]
  },
  {
   "cell_type": "code",
   "execution_count": null,
   "metadata": {},
   "outputs": [],
   "source": [
    "# Read in data and setup df(s) to use for charts"
   ]
  },
  {
   "cell_type": "markdown",
   "metadata": {},
   "source": [
    "# Analysis and Visualizations"
   ]
  },
  {
   "cell_type": "markdown",
   "metadata": {},
   "source": [
    "## Question 1\n",
    "\n",
    "Can we reject null-hypothesis?\n",
    "Is p-value <0.05?\n",
    "\n",
    "**Hypothesis:** If a restaurant has poor health inspection score of 94 or below, they will also have a low, less than 4.5 stars, rating on yelp or google.\n",
    "\n",
    "**Finding:**"
   ]
  },
  {
   "cell_type": "markdown",
   "metadata": {},
   "source": [
    "#### Run scatterplot chart with regression using google/yelp rating for x-axis and inspection score for y-axis"
   ]
  },
  {
   "cell_type": "code",
   "execution_count": null,
   "metadata": {},
   "outputs": [],
   "source": [
    "#copy-cat code for a scatter plot of 2 variables with a linear regression line. \n",
    "#main ask and yelp/google regression\n",
    "#setting x and y variables to run regression\n",
    "x =  df[\"Independent variable columns\"]\n",
    "y = df[\"Dependent variable column\"]\n",
    "\n",
    "#creating linear regression and setting variables related to output\n",
    "gradient, intercept, r_value, p_value, std_err = stats.linregress(x,y)\n",
    "\n",
    "#creating variables to plot the regression line\n",
    "mn=np.min(x)\n",
    "mx=np.max(x)\n",
    "x1=np.linspace(mn,mx,500)\n",
    "y1=gradient*x1+intercept\n",
    "\n",
    "#plotting the scatter plot of data, and the regression line to be drawn on top\n",
    "plt.plot(x,y,'ob', alpha =.5)\n",
    "plt.plot(x1,y1,'-r')\n",
    "\n",
    "#plot axis and title formatting\n",
    "plt.xlabel(\"\")\n",
    "plt.ylabel(\"\")\n",
    "plt.title(\"\")\n",
    "savefig('Analysis_vis/figures/file_name.png')\n",
    "plt.show()\n",
    "print(f\"R Value is: {r_value} and P Value is: {p_value}\")"
   ]
  },
  {
   "cell_type": "markdown",
   "metadata": {},
   "source": [
    "#### Bar chart showing yelp and google ratings compared to inspection score"
   ]
  },
  {
   "cell_type": "code",
   "execution_count": null,
   "metadata": {},
   "outputs": [],
   "source": [
    "#x-axis = google/yelp\n",
    "#y-axis = inspection score"
   ]
  },
  {
   "cell_type": "markdown",
   "metadata": {},
   "source": [
    "# Question 2\n",
    "\n",
    "How consistent are Yelp and Google ratings? Are there large scale differences between review sites? If so, how do we utilize these datasets with confidence?\n",
    "\n",
    "**Findings:**"
   ]
  },
  {
   "cell_type": "code",
   "execution_count": null,
   "metadata": {},
   "outputs": [],
   "source": [
    "#Scatterplot with regression"
   ]
  },
  {
   "cell_type": "markdown",
   "metadata": {},
   "source": [
    "# Question 3\n",
    "\n",
    "Do more people post reviews if giving higher or lower ratings?\n",
    "\n",
    "**Findings:**"
   ]
  },
  {
   "cell_type": "code",
   "execution_count": 3,
   "metadata": {},
   "outputs": [],
   "source": [
    "# Bar chart comparing number of reviews and star count\n",
    "\n",
    "# google/yelp graph has 1 - 5 stars on X-axis\n",
    "# count of reviews (0-100) on y-axis\n"
   ]
  },
  {
   "cell_type": "markdown",
   "metadata": {},
   "source": [
    "# Question 4\n",
    "\n",
    "Which variety of restaurant is the most commonly occuring in Dallas?\n",
    "\n",
    "**Findings:**"
   ]
  },
  {
   "cell_type": "code",
   "execution_count": 4,
   "metadata": {},
   "outputs": [],
   "source": [
    "# Pie Chart?\n",
    "# Restaurant type (if we have the info) and count of restaurant for each type"
   ]
  },
  {
   "cell_type": "markdown",
   "metadata": {},
   "source": [
    "# Question 4a\n",
    "\n",
    "Which variety of restaurant has the highest average rating? \n",
    "\n",
    "**Findings:**"
   ]
  },
  {
   "cell_type": "code",
   "execution_count": 5,
   "metadata": {},
   "outputs": [],
   "source": [
    "#add chart"
   ]
  },
  {
   "cell_type": "markdown",
   "metadata": {},
   "source": [
    "# Question 4b\n",
    "\n",
    "Is this also the most commonly occuring?"
   ]
  },
  {
   "cell_type": "code",
   "execution_count": 6,
   "metadata": {},
   "outputs": [],
   "source": [
    "#add chart"
   ]
  },
  {
   "cell_type": "markdown",
   "metadata": {},
   "source": [
    "# Question 5\n",
    "\n",
    "Which months have the lowest health inspection scores? Which years?\n",
    "\n",
    "**Findings:**\n"
   ]
  },
  {
   "cell_type": "code",
   "execution_count": 7,
   "metadata": {},
   "outputs": [],
   "source": [
    "# Bar chart?\n",
    "# x-axis = months\n",
    "# y-axis = inspection score"
   ]
  },
  {
   "cell_type": "code",
   "execution_count": null,
   "metadata": {},
   "outputs": [],
   "source": []
  }
 ],
 "metadata": {
  "kernelspec": {
   "display_name": "Python 3",
   "language": "python",
   "name": "python3"
  },
  "language_info": {
   "codemirror_mode": {
    "name": "ipython",
    "version": 3
   },
   "file_extension": ".py",
   "mimetype": "text/x-python",
   "name": "python",
   "nbconvert_exporter": "python",
   "pygments_lexer": "ipython3",
   "version": "3.7.4"
  }
 },
 "nbformat": 4,
 "nbformat_minor": 2
}
