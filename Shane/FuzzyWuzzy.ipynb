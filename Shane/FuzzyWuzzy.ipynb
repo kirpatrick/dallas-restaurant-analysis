{
 "cells": [
  {
   "cell_type": "markdown",
   "metadata": {},
   "source": [
    "### FuzzyWuzzy and testing for our Restaurant data\n",
    "#### https://www.geeksforgeeks.org/fuzzywuzzy-python-library/\n",
    "#### https://stackoverflow.com/questions/10383044/fuzzy-string-comparison\n",
    "\n",
    "##### might also consider: https://bergvca.github.io/2017/10/14/super-fast-string-matching.html"
   ]
  },
  {
   "cell_type": "code",
   "execution_count": 12,
   "metadata": {},
   "outputs": [],
   "source": [
    "from fuzzywuzzy import fuzz \n",
    "from fuzzywuzzy import process"
   ]
  },
  {
   "cell_type": "code",
   "execution_count": 7,
   "metadata": {},
   "outputs": [],
   "source": [
    "s1 = \"I love GeeksforGeeks\"\n",
    "s2 = \"I am loving GeeksforGeeks\""
   ]
  },
  {
   "cell_type": "code",
   "execution_count": 9,
   "metadata": {},
   "outputs": [
    {
     "name": "stdout",
     "output_type": "stream",
     "text": [
      "FuzzyWuzzy Ratio:  84\n",
      "FuzzyWuzzy PartialRatio:  85\n",
      "FuzzyWuzzy TokenSortRatio:  84\n",
      "FuzzyWuzzy TokenSetRatio:  86\n",
      "FuzzyWuzzy WRatio:  84 \n",
      "\n",
      "\n"
     ]
    }
   ],
   "source": [
    "print(\"FuzzyWuzzy Ratio: \", fuzz.ratio(s1, s2))\n",
    "print(\"FuzzyWuzzy PartialRatio: \", fuzz.partial_ratio(s1, s2))\n",
    "print(\"FuzzyWuzzy TokenSortRatio: \", fuzz.token_sort_ratio(s1, s2))\n",
    "print(\"FuzzyWuzzy TokenSetRatio: \", fuzz.token_set_ratio(s1, s2))\n",
    "print(\"FuzzyWuzzy WRatio: \", fuzz.WRatio(s1, s2),'\\n\\n')"
   ]
  },
  {
   "cell_type": "code",
   "execution_count": 10,
   "metadata": {},
   "outputs": [
    {
     "name": "stdout",
     "output_type": "stream",
     "text": [
      "List of ratios: \n",
      "[('g. for geeks', 95), ('geek for geek', 93), ('geek geek', 86)] \n",
      "\n",
      "Best among the above list:  ('g. for geeks', 95)\n"
     ]
    }
   ],
   "source": [
    "# for process library, \n",
    "query = 'geeks for geeks'\n",
    "choices = ['geek for geek', 'geek geek', 'g. for geeks']  \n",
    "print(\"List of ratios: \")\n",
    "print(process.extract(query, choices), '\\n')\n",
    "print(\"Best among the above list: \",process.extractOne(query, choices) )"
   ]
  },
  {
   "cell_type": "markdown",
   "metadata": {},
   "source": [
    "### testing samples of our data"
   ]
  },
  {
   "cell_type": "code",
   "execution_count": 38,
   "metadata": {},
   "outputs": [],
   "source": [
    "# testing sample restaurant name\n",
    "r1 = \"3 FORKS RESTAURANT\"\n",
    "r1 = r1.lower()\n",
    "r2 = \"III Forks\"\n",
    "r2 = r2.lower()"
   ]
  },
  {
   "cell_type": "code",
   "execution_count": 39,
   "metadata": {
    "scrolled": true
   },
   "outputs": [
    {
     "name": "stdout",
     "output_type": "stream",
     "text": [
      "FuzzyWuzzy Ratio:  44\n",
      "FuzzyWuzzy PartialRatio:  67\n",
      "FuzzyWuzzy TokenSortRatio:  44\n",
      "FuzzyWuzzy TokenSetRatio:  71\n",
      "FuzzyWuzzy WRatio:  86 \n",
      "\n",
      "\n"
     ]
    }
   ],
   "source": [
    "print(\"FuzzyWuzzy Ratio: \", fuzz.ratio(r1, r2))\n",
    "print(\"FuzzyWuzzy PartialRatio: \", fuzz.partial_ratio(r1, r2))\n",
    "print(\"FuzzyWuzzy TokenSortRatio: \", fuzz.token_sort_ratio(r1, r2))\n",
    "print(\"FuzzyWuzzy TokenSetRatio: \", fuzz.token_set_ratio(r1, r2))\n",
    "print(\"FuzzyWuzzy WRatio: \", fuzz.WRatio(r1, r2),'\\n\\n')"
   ]
  },
  {
   "cell_type": "code",
   "execution_count": 20,
   "metadata": {},
   "outputs": [],
   "source": [
    "# testing sample restaurant address\n",
    "a1 = \"17776 DALLAS\"\n",
    "a1 = a1.lower()\n",
    "a2 = \"17776 Dallas Pkwy\"\n",
    "a2 = a2.lower()"
   ]
  },
  {
   "cell_type": "code",
   "execution_count": 21,
   "metadata": {},
   "outputs": [
    {
     "name": "stdout",
     "output_type": "stream",
     "text": [
      "FuzzyWuzzy Ratio:  83\n",
      "FuzzyWuzzy PartialRatio:  100\n",
      "FuzzyWuzzy TokenSortRatio:  83\n",
      "FuzzyWuzzy TokenSetRatio:  100\n",
      "FuzzyWuzzy WRatio:  95 \n",
      "\n",
      "\n"
     ]
    }
   ],
   "source": [
    "print(\"FuzzyWuzzy Ratio: \", fuzz.ratio(a1, a2))\n",
    "print(\"FuzzyWuzzy PartialRatio: \", fuzz.partial_ratio(a1, a2))\n",
    "print(\"FuzzyWuzzy TokenSortRatio: \", fuzz.token_sort_ratio(a1, a2))\n",
    "print(\"FuzzyWuzzy TokenSetRatio: \", fuzz.token_set_ratio(a1, a2))\n",
    "print(\"FuzzyWuzzy WRatio: \", fuzz.WRatio(a1, a2),'\\n\\n')"
   ]
  },
  {
   "cell_type": "code",
   "execution_count": 35,
   "metadata": {},
   "outputs": [
    {
     "name": "stdout",
     "output_type": "stream",
     "text": [
      "32.99168\n",
      "-96.82896\n",
      "32.99166\n",
      "-96.82832\n"
     ]
    }
   ],
   "source": [
    "#testing sampe restaurant lat/lng\n",
    "lat1 = 32.991679\n",
    "lat1 = str(round(lat1,5))\n",
    "lng1 = -96.828962\n",
    "lng1 = str(round(lng1,5))\n",
    "lat2 = 32.99166\n",
    "lat2 = str(round(lat2,5))\n",
    "lng2 = -96.82832\n",
    "lng2 = str(round(lng2,5))\n",
    "print(lat1)\n",
    "print(lng1)\n",
    "print(lat2)\n",
    "print(lng2)"
   ]
  },
  {
   "cell_type": "code",
   "execution_count": 37,
   "metadata": {},
   "outputs": [
    {
     "name": "stdout",
     "output_type": "stream",
     "text": [
      "FuzzyWuzzy Lat Ratio:  88\n",
      "FuzzyWuzzy Lat PartialRatio:  88\n",
      "FuzzyWuzzy Lat TokenSortRatio:  88\n",
      "FuzzyWuzzy Lat TokenSetRatio:  88\n",
      "FuzzyWuzzy Lat WRatio:  88 \n",
      "\n",
      "\n",
      "-----------------\n",
      "FuzzyWuzzy Lng Ratio:  78\n",
      "FuzzyWuzzy Lng PartialRatio:  78\n",
      "FuzzyWuzzy Lng TokenSortRatio:  75\n",
      "FuzzyWuzzy Lng TokenSetRatio:  75\n",
      "FuzzyWuzzy Lng WRatio:  75 \n",
      "\n",
      "\n"
     ]
    }
   ],
   "source": [
    "print(\"FuzzyWuzzy Lat Ratio: \", fuzz.ratio(lat1, lat2))\n",
    "print(\"FuzzyWuzzy Lat PartialRatio: \", fuzz.partial_ratio(lat1, lat2))\n",
    "print(\"FuzzyWuzzy Lat TokenSortRatio: \", fuzz.token_sort_ratio(lat1, lat2))\n",
    "print(\"FuzzyWuzzy Lat TokenSetRatio: \", fuzz.token_set_ratio(lat1, lat2))\n",
    "print(\"FuzzyWuzzy Lat WRatio: \", fuzz.WRatio(lat1, lat2),'\\n\\n')\n",
    "print(\"-----------------\")\n",
    "print(\"FuzzyWuzzy Lng Ratio: \", fuzz.ratio(lng1, lng2))\n",
    "print(\"FuzzyWuzzy Lng PartialRatio: \", fuzz.partial_ratio(lng1, lng2))\n",
    "print(\"FuzzyWuzzy Lng TokenSortRatio: \", fuzz.token_sort_ratio(lng1, lng2))\n",
    "print(\"FuzzyWuzzy Lng TokenSetRatio: \", fuzz.token_set_ratio(lng1, lng2))\n",
    "print(\"FuzzyWuzzy Lng WRatio: \", fuzz.WRatio(lng1, lng2),'\\n\\n')"
   ]
  },
  {
   "cell_type": "code",
   "execution_count": null,
   "metadata": {},
   "outputs": [],
   "source": []
  },
  {
   "cell_type": "code",
   "execution_count": null,
   "metadata": {},
   "outputs": [],
   "source": []
  },
  {
   "cell_type": "code",
   "execution_count": 41,
   "metadata": {},
   "outputs": [
    {
     "name": "stdout",
     "output_type": "stream",
     "text": [
      "Geeks for Geeks Geeks Geeks Geeks\n",
      "GeeksforGeeks for GeeksforGeeks GeeksforGeeks GeeksforGeeks GeeksforGeeks\n"
     ]
    }
   ],
   "source": [
    "string = \"geeks for geeks geeks geeks geeks\" \n",
    "   \n",
    "# Prints the string by replacing geeks by Geeks  \n",
    "print(string.replace(\"geeks\", \"Geeks\"))  \n",
    "  \n",
    "# Prints the string by replacing only 3 occurrence of Geeks   \n",
    "print(string.replace(\"geeks\", \"GeeksforGeeks\")) "
   ]
  },
  {
   "cell_type": "code",
   "execution_count": null,
   "metadata": {},
   "outputs": [],
   "source": []
  }
 ],
 "metadata": {
  "kernelspec": {
   "display_name": "Python 3",
   "language": "python",
   "name": "python3"
  },
  "language_info": {
   "codemirror_mode": {
    "name": "ipython",
    "version": 3
   },
   "file_extension": ".py",
   "mimetype": "text/x-python",
   "name": "python",
   "nbconvert_exporter": "python",
   "pygments_lexer": "ipython3",
   "version": "3.7.4"
  }
 },
 "nbformat": 4,
 "nbformat_minor": 2
}
