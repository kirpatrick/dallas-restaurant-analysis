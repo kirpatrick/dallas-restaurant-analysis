{
 "cells": [
  {
   "cell_type": "code",
   "execution_count": 53,
   "metadata": {},
   "outputs": [],
   "source": [
    "import yelp\n",
    "\n",
    "import pandas as pd\n",
    "import numpy as np\n",
    "import requests\n",
    "import json\n",
    "\n",
    "# bring in and use citipy to determine city based on latitude and longitude\n",
    "from citipy import citipy\n",
    "\n",
    "from config import yelp_api_key"
   ]
  },
  {
   "cell_type": "code",
   "execution_count": 54,
   "metadata": {},
   "outputs": [
    {
     "data": {
      "text/plain": [
       "'5KxCJBJUuDz3ezMQ5EzPUY3r6KPqwt9Z6QHgp7TbYq1ut1lt5U3qUp-b7HtkKPRY1R_53_xDc_jKobSXkyqrPvByTZOVfOYIH5VLHIUmSlyFf_qZ8vk88jXnXkAqXnYx'"
      ]
     },
     "execution_count": 54,
     "metadata": {},
     "output_type": "execute_result"
    }
   ],
   "source": [
    "yelp_api_key"
   ]
  },
  {
   "cell_type": "code",
   "execution_count": 64,
   "metadata": {},
   "outputs": [],
   "source": [
    "# base_url = \"https://api.yelp.com/v3/autocomplete/businesses/search\"\n",
    "# base_url = f\"https://api.yelp.com/v3/autocomplete/businesses/search?latitude={dallas_lat}&longitude={dallas_lng}\"\n",
    "# base_url = f\"https://api.yelp.com/v3/autocomplete/businesses/search?location=dallas\"\n",
    "base_url = \"https://api.yelp.com/v3/businesses/search?access_token=5KxCJBJUuDz3ezMQ5EzPUY3r6KPqwt9Z6QHgp7TbYq1ut1lt5U3qUp-b7HtkKPRY1R_53_xDc_jKobSXkyqrPvByTZOVfOYIH5VLHIUmSlyFf_qZ8vk88jXnXkAqXnYx&term='restaurants'&location='Dallas'&radius=10\"\n",
    "\n",
    "\n",
    "# API constants, you shouldn't have to change these.\n",
    "# API_HOST = 'https://api.yelp.com'\n",
    "# SEARCH_PATH = '/v3/businesses/autocomplete/search'\n",
    "# BUSINESS_PATH = '/v3/businesses/'  # Business ID will come after slash.\n",
    "\n",
    "\n",
    "# url_params = {\n",
    "#     'term': \"restaurants\",\n",
    "# #     'location': \"Dallas\",\n",
    "# #     'latitude': dallas_lat,\n",
    "# #     'longitude': dallas_lng,\n",
    "#     'limit': 3,\n",
    "# #     'radius': 10,\n",
    "# #     'sort_by': 'rating'  \n",
    "#     }\n",
    "\n",
    "headers = {'Authorization': 'Bearer %s' % yelp_api_key}\n",
    "\n",
    "# headers"
   ]
  },
  {
   "cell_type": "code",
   "execution_count": 65,
   "metadata": {},
   "outputs": [],
   "source": [
    "# response = requests.get(f\"{base_url}&{headers}params={url_params}\").json()\n",
    "response = requests.get(f\"{base_url}\").json()"
   ]
  },
  {
   "cell_type": "code",
   "execution_count": 66,
   "metadata": {},
   "outputs": [
    {
     "data": {
      "text/plain": [
       "{'error': {'code': 'VALIDATION_ERROR',\n",
       "  'description': 'Authorization is a required parameter.',\n",
       "  'field': 'Authorization',\n",
       "  'instance': None}}"
      ]
     },
     "execution_count": 66,
     "metadata": {},
     "output_type": "execute_result"
    }
   ],
   "source": [
    "# base_url\n",
    "response"
   ]
  },
  {
   "cell_type": "code",
   "execution_count": 32,
   "metadata": {},
   "outputs": [
    {
     "name": "stdout",
     "output_type": "stream",
     "text": [
      "https://api.yelp.com/v3/autocomplete/businesses/search&params={'term': 'restaurants', 'location': 'Dallas', 'latitude': 32.7767, 'longitude': -96.797, 'limit': 3}\n"
     ]
    }
   ],
   "source": [
    "print(f\"{base_url}&params={url_params}\")"
   ]
  },
  {
   "cell_type": "code",
   "execution_count": null,
   "metadata": {},
   "outputs": [],
   "source": [
    "# url_params = {\n",
    "# \t\t\t'term': request.args.get('term').replace(' ', '+'),\n",
    "# \t\t\t'category_filter': 'food',\n",
    "# \t\t\t'latitude': request.args.get('latitude'), \n",
    "# \t\t\t'longitude': request.args.get('longitude'),\n",
    "# \t\t\t'radius': int(request.args.get('radius')),\n",
    "# \t\t\t'sort_by': 'rating'\n",
    "# \t\t\t}\n",
    "# \tbearer_token = obtain_access_token(AUTH_PATH)\n",
    "# \theaders = {'Authorization': 'Bearer %s' % bearer_token}\n",
    "# \tresponse = requests.get(SEARCH_PATH, headers=headers, params=url_params)\n",
    "# \tif response.status_code == 200:\n",
    "# \t\teprint('total: ' + str(response.json()['total']))\n",
    "# \t\treturn json.dumps(response.json()['businesses'])\n",
    "# \telse:\n",
    "# \t\teprint(\"Received non-200 response({}) for business search, returning empty response\".format(response.status_code))"
   ]
  },
  {
   "cell_type": "code",
   "execution_count": null,
   "metadata": {},
   "outputs": [],
   "source": []
  },
  {
   "cell_type": "code",
   "execution_count": 75,
   "metadata": {},
   "outputs": [],
   "source": [
    "# import requests\n",
    "# import json\n",
    "\n",
    "api_key = yelp_api_key\n",
    "headers = {'Authorization': 'Bearer %s' % api_key}\n",
    "\n",
    "url = 'https://api.yelp.com/v3/businesses/search'\n",
    "\n",
    "params = {'term':'restaurant',\n",
    "#           'location':'Dallas',\n",
    "          'latitude': dallas_lat,\n",
    "          'longitude': dallas_lng,\n",
    "          'limit': 5,\n",
    "          'radius': 1000}\n",
    "\n",
    "req = requests.get(url, params=params, headers=headers).json()\n",
    "\n",
    "# parsed = json.loads(req.text)\n",
    "\n",
    "# businesses = parsed[\"businesses\"]\n",
    "\n",
    "# for business in businesses:\n",
    "#     print(\"Name:\", business[\"name\"])\n",
    "#     print(\"Rating:\", business[\"rating\"])\n",
    "#     print(\"Address:\", \" \".join(business[\"location\"][\"display_address\"]))\n",
    "#     print(\"Phone:\", business[\"phone\"])\n",
    "#     print(\"\\n\")\n",
    "\n",
    "#     id = business[\"id\"]\n",
    "\n",
    "#     url=\"https://api.yelp.com/v3/businesses/\" + id + \"/reviews\"\n",
    "\n",
    "#     req = requests.get(url, headers=headers)\n",
    "\n",
    "#     parsed = json.loads(req.text)\n",
    "\n",
    "#     reviews = parsed[\"reviews\"]\n",
    "\n",
    "#     print(\"--- Reviews ---\")\n",
    "\n",
    "#     for review in reviews:\n",
    "#         print(\"User:\", review[\"user\"][\"name\"], \"Rating:\", review[\"rating\"], \"Review:\", review[\"text\"], \"\\n\")\n"
   ]
  },
  {
   "cell_type": "code",
   "execution_count": 77,
   "metadata": {},
   "outputs": [
    {
     "name": "stdout",
     "output_type": "stream",
     "text": [
      "{\n",
      "    \"businesses\": [\n",
      "        {\n",
      "            \"alias\": \"the-woolworth-dallas\",\n",
      "            \"categories\": [\n",
      "                {\n",
      "                    \"alias\": \"cocktailbars\",\n",
      "                    \"title\": \"Cocktail Bars\"\n",
      "                },\n",
      "                {\n",
      "                    \"alias\": \"tapasmallplates\",\n",
      "                    \"title\": \"Tapas/Small Plates\"\n",
      "                },\n",
      "                {\n",
      "                    \"alias\": \"newamerican\",\n",
      "                    \"title\": \"American (New)\"\n",
      "                }\n",
      "            ],\n",
      "            \"coordinates\": {\n",
      "                \"latitude\": 32.781324,\n",
      "                \"longitude\": -96.798692\n",
      "            },\n",
      "            \"display_phone\": \"(214) 814-0588\",\n",
      "            \"distance\": 537.9472400384784,\n",
      "            \"id\": \"DP1I3daE5-mKznnAeA-Q3w\",\n",
      "            \"image_url\": \"https://s3-media1.fl.yelpcdn.com/bphoto/G2edTzjaqJY3UtcqAtb0Ww/o.jpg\",\n",
      "            \"is_closed\": false,\n",
      "            \"location\": {\n",
      "                \"address1\": \"1520 Elm St\",\n",
      "                \"address2\": \"Ste 201\",\n",
      "                \"address3\": \"\",\n",
      "                \"city\": \"Dallas\",\n",
      "                \"country\": \"US\",\n",
      "                \"display_address\": [\n",
      "                    \"1520 Elm St\",\n",
      "                    \"Ste 201\",\n",
      "                    \"Dallas, TX 75204\"\n",
      "                ],\n",
      "                \"state\": \"TX\",\n",
      "                \"zip_code\": \"75204\"\n",
      "            },\n",
      "            \"name\": \"The Woolworth\",\n",
      "            \"phone\": \"+12148140588\",\n",
      "            \"price\": \"$$\",\n",
      "            \"rating\": 4.0,\n",
      "            \"review_count\": 853,\n",
      "            \"transactions\": [\n",
      "                \"delivery\",\n",
      "                \"restaurant_reservation\"\n",
      "            ],\n",
      "            \"url\": \"https://www.yelp.com/biz/the-woolworth-dallas?adjust_creative=pVEDFSSPDPdqk1-ZFaq20g&utm_campaign=yelp_api_v3&utm_medium=api_v3_business_search&utm_source=pVEDFSSPDPdqk1-ZFaq20g\"\n",
      "        },\n",
      "        {\n",
      "            \"alias\": \"cbd-provisions-dallas\",\n",
      "            \"categories\": [\n",
      "                {\n",
      "                    \"alias\": \"brasseries\",\n",
      "                    \"title\": \"Brasseries\"\n",
      "                },\n",
      "                {\n",
      "                    \"alias\": \"breakfast_brunch\",\n",
      "                    \"title\": \"Breakfast & Brunch\"\n",
      "                },\n",
      "                {\n",
      "                    \"alias\": \"tradamerican\",\n",
      "                    \"title\": \"American (Traditional)\"\n",
      "                }\n",
      "            ],\n",
      "            \"coordinates\": {\n",
      "                \"latitude\": 32.780571,\n",
      "                \"longitude\": -96.7983932\n",
      "            },\n",
      "            \"display_phone\": \"(214) 261-4500\",\n",
      "            \"distance\": 465.74587718057234,\n",
      "            \"id\": \"f6i2rU70xixptLYHfbtINg\",\n",
      "            \"image_url\": \"https://s3-media2.fl.yelpcdn.com/bphoto/NabuTSoFhAwCgoHNQEf5UA/o.jpg\",\n",
      "            \"is_closed\": false,\n",
      "            \"location\": {\n",
      "                \"address1\": \"1530 Main St\",\n",
      "                \"address2\": null,\n",
      "                \"address3\": \"\",\n",
      "                \"city\": \"Dallas\",\n",
      "                \"country\": \"US\",\n",
      "                \"display_address\": [\n",
      "                    \"1530 Main St\",\n",
      "                    \"Dallas, TX 75201\"\n",
      "                ],\n",
      "                \"state\": \"TX\",\n",
      "                \"zip_code\": \"75201\"\n",
      "            },\n",
      "            \"name\": \"CBD Provisions\",\n",
      "            \"phone\": \"+12142614500\",\n",
      "            \"price\": \"$$\",\n",
      "            \"rating\": 4.0,\n",
      "            \"review_count\": 980,\n",
      "            \"transactions\": [\n",
      "                \"delivery\"\n",
      "            ],\n",
      "            \"url\": \"https://www.yelp.com/biz/cbd-provisions-dallas?adjust_creative=pVEDFSSPDPdqk1-ZFaq20g&utm_campaign=yelp_api_v3&utm_medium=api_v3_business_search&utm_source=pVEDFSSPDPdqk1-ZFaq20g\"\n",
      "        },\n",
      "        {\n",
      "            \"alias\": \"queso-beso-dallas\",\n",
      "            \"categories\": [\n",
      "                {\n",
      "                    \"alias\": \"tex-mex\",\n",
      "                    \"title\": \"Tex-Mex\"\n",
      "                },\n",
      "                {\n",
      "                    \"alias\": \"bars\",\n",
      "                    \"title\": \"Bars\"\n",
      "                }\n",
      "            ],\n",
      "            \"coordinates\": {\n",
      "                \"latitude\": 32.7809724253327,\n",
      "                \"longitude\": -96.7985300538348\n",
      "            },\n",
      "            \"display_phone\": \"(214) 922-7510\",\n",
      "            \"distance\": 496.1393260722341,\n",
      "            \"id\": \"DjptLpwx8pkhLSgllDzk5Q\",\n",
      "            \"image_url\": \"https://s3-media3.fl.yelpcdn.com/bphoto/SpmEJaBEUsYJGiGfb_6P8Q/o.jpg\",\n",
      "            \"is_closed\": false,\n",
      "            \"location\": {\n",
      "                \"address1\": \"1525 Main St\",\n",
      "                \"address2\": \"\",\n",
      "                \"address3\": null,\n",
      "                \"city\": \"Dallas\",\n",
      "                \"country\": \"US\",\n",
      "                \"display_address\": [\n",
      "                    \"1525 Main St\",\n",
      "                    \"Dallas, TX 75201\"\n",
      "                ],\n",
      "                \"state\": \"TX\",\n",
      "                \"zip_code\": \"75201\"\n",
      "            },\n",
      "            \"name\": \"Queso Beso\",\n",
      "            \"phone\": \"+12149227510\",\n",
      "            \"rating\": 3.0,\n",
      "            \"review_count\": 24,\n",
      "            \"transactions\": [],\n",
      "            \"url\": \"https://www.yelp.com/biz/queso-beso-dallas?adjust_creative=pVEDFSSPDPdqk1-ZFaq20g&utm_campaign=yelp_api_v3&utm_medium=api_v3_business_search&utm_source=pVEDFSSPDPdqk1-ZFaq20g\"\n",
      "        },\n",
      "        {\n",
      "            \"alias\": \"partenope-ristorante-dallas\",\n",
      "            \"categories\": [\n",
      "                {\n",
      "                    \"alias\": \"italian\",\n",
      "                    \"title\": \"Italian\"\n",
      "                },\n",
      "                {\n",
      "                    \"alias\": \"pizza\",\n",
      "                    \"title\": \"Pizza\"\n",
      "                },\n",
      "                {\n",
      "                    \"alias\": \"wine_bars\",\n",
      "                    \"title\": \"Wine Bars\"\n",
      "                }\n",
      "            ],\n",
      "            \"coordinates\": {\n",
      "                \"latitude\": 32.781576,\n",
      "                \"longitude\": -96.795623\n",
      "            },\n",
      "            \"display_phone\": \"(214) 463-6222\",\n",
      "            \"distance\": 557.2592636853047,\n",
      "            \"id\": \"O8sGr3Co7K0EbvfcmdWCDw\",\n",
      "            \"image_url\": \"https://s3-media1.fl.yelpcdn.com/bphoto/QzWF5YKH7VgMFesTKr-W9w/o.jpg\",\n",
      "            \"is_closed\": false,\n",
      "            \"location\": {\n",
      "                \"address1\": \"1903 Main St\",\n",
      "                \"address2\": \"\",\n",
      "                \"address3\": null,\n",
      "                \"city\": \"Dallas\",\n",
      "                \"country\": \"US\",\n",
      "                \"display_address\": [\n",
      "                    \"1903 Main St\",\n",
      "                    \"Dallas, TX 75201\"\n",
      "                ],\n",
      "                \"state\": \"TX\",\n",
      "                \"zip_code\": \"75201\"\n",
      "            },\n",
      "            \"name\": \"Partenope Ristorante\",\n",
      "            \"phone\": \"+12144636222\",\n",
      "            \"price\": \"$$\",\n",
      "            \"rating\": 4.5,\n",
      "            \"review_count\": 68,\n",
      "            \"transactions\": [],\n",
      "            \"url\": \"https://www.yelp.com/biz/partenope-ristorante-dallas?adjust_creative=pVEDFSSPDPdqk1-ZFaq20g&utm_campaign=yelp_api_v3&utm_medium=api_v3_business_search&utm_source=pVEDFSSPDPdqk1-ZFaq20g\"\n",
      "        },\n",
      "        {\n",
      "            \"alias\": \"babes-dallas\",\n",
      "            \"categories\": [\n",
      "                {\n",
      "                    \"alias\": \"tradamerican\",\n",
      "                    \"title\": \"American (Traditional)\"\n",
      "                }\n",
      "            ],\n",
      "            \"coordinates\": {\n",
      "                \"latitude\": null,\n",
      "                \"longitude\": null\n",
      "            },\n",
      "            \"display_phone\": \"\",\n",
      "            \"distance\": 4.1383899887669875,\n",
      "            \"id\": \"krhS1EeJS6wxHa6B8xVX3A\",\n",
      "            \"image_url\": \"https://s3-media2.fl.yelpcdn.com/bphoto/kiB5PASlkNn33wT7BiJvBw/o.jpg\",\n",
      "            \"is_closed\": false,\n",
      "            \"location\": {\n",
      "                \"address1\": \"\",\n",
      "                \"address2\": \"\",\n",
      "                \"address3\": \"\",\n",
      "                \"city\": \"Dallas\",\n",
      "                \"country\": \"US\",\n",
      "                \"display_address\": [\n",
      "                    \"Dallas, TX\"\n",
      "                ],\n",
      "                \"state\": \"TX\",\n",
      "                \"zip_code\": \"\"\n",
      "            },\n",
      "            \"name\": \"Babe's\",\n",
      "            \"phone\": \"\",\n",
      "            \"rating\": 5.0,\n",
      "            \"review_count\": 4,\n",
      "            \"transactions\": [],\n",
      "            \"url\": \"https://www.yelp.com/biz/babes-dallas?adjust_creative=pVEDFSSPDPdqk1-ZFaq20g&utm_campaign=yelp_api_v3&utm_medium=api_v3_business_search&utm_source=pVEDFSSPDPdqk1-ZFaq20g\"\n",
      "        }\n",
      "    ],\n",
      "    \"region\": {\n",
      "        \"center\": {\n",
      "            \"latitude\": 32.7767,\n",
      "            \"longitude\": -96.797\n",
      "        }\n",
      "    },\n",
      "    \"total\": 262\n",
      "}\n"
     ]
    }
   ],
   "source": [
    "# req\n",
    "print(json.dumps(req, indent=4, sort_keys=True))"
   ]
  },
  {
   "cell_type": "code",
   "execution_count": null,
   "metadata": {},
   "outputs": [],
   "source": []
  },
  {
   "cell_type": "code",
   "execution_count": null,
   "metadata": {},
   "outputs": [],
   "source": []
  },
  {
   "cell_type": "code",
   "execution_count": null,
   "metadata": {},
   "outputs": [],
   "source": []
  },
  {
   "cell_type": "code",
   "execution_count": null,
   "metadata": {},
   "outputs": [],
   "source": []
  },
  {
   "cell_type": "code",
   "execution_count": null,
   "metadata": {},
   "outputs": [],
   "source": []
  },
  {
   "cell_type": "code",
   "execution_count": null,
   "metadata": {},
   "outputs": [],
   "source": []
  },
  {
   "cell_type": "code",
   "execution_count": 19,
   "metadata": {},
   "outputs": [
    {
     "name": "stdout",
     "output_type": "stream",
     "text": [
      "dallas\n"
     ]
    }
   ],
   "source": [
    "# Dallas, TX, US Lat/Long: 32.7767° N, 96.7970° W\n",
    "dallas_lat = 32.7767\n",
    "dallas_lng = -96.7970\n",
    "\n",
    "# testcity = citipy.nearest_city(dallas_lat,dallas_lng).city_name\n",
    "testcity = citipy.nearest_city(dallas_lat,dallas_lng).city_name\n",
    "print(testcity)"
   ]
  },
  {
   "cell_type": "code",
   "execution_count": 20,
   "metadata": {},
   "outputs": [
    {
     "data": {
      "text/plain": [
       "'https://api.yelp.com/v3/businesses/search'"
      ]
     },
     "execution_count": 20,
     "metadata": {},
     "output_type": "execute_result"
    }
   ],
   "source": [
    "base_url"
   ]
  },
  {
   "cell_type": "code",
   "execution_count": null,
   "metadata": {},
   "outputs": [],
   "source": []
  }
 ],
 "metadata": {
  "kernelspec": {
   "display_name": "Python 3",
   "language": "python",
   "name": "python3"
  },
  "language_info": {
   "codemirror_mode": {
    "name": "ipython",
    "version": 3
   },
   "file_extension": ".py",
   "mimetype": "text/x-python",
   "name": "python",
   "nbconvert_exporter": "python",
   "pygments_lexer": "ipython3",
   "version": "3.7.4"
  }
 },
 "nbformat": 4,
 "nbformat_minor": 2
}
