{
 "cells": [
  {
   "cell_type": "code",
   "execution_count": 1,
   "metadata": {},
   "outputs": [],
   "source": [
    "# import yelp\n",
    "import pandas as pd\n",
    "# import numpy as np\n",
    "import requests\n",
    "import json\n",
    "\n",
    "# bring in and use citipy to determine city based on latitude and longitude\n",
    "from citipy import citipy\n",
    "\n",
    "from config import yelp_api_key_Austin, yelp_api_key_Shane, yelp_client_id_Shane"
   ]
  },
  {
   "cell_type": "code",
   "execution_count": 5,
   "metadata": {},
   "outputs": [
    {
     "name": "stdout",
     "output_type": "stream",
     "text": [
      "dallas\n"
     ]
    }
   ],
   "source": [
    "# Dallas, TX, US Lat/Long: 32.7767° N, 96.7970° W\n",
    "dallas_lat = 32.7767\n",
    "dallas_lng = -96.7970\n",
    "\n",
    "# testcity = citipy.nearest_city(dallas_lat,dallas_lng).city_name\n",
    "testcity = citipy.nearest_city(dallas_lat,dallas_lng).city_name\n",
    "print(testcity)"
   ]
  },
  {
   "cell_type": "code",
   "execution_count": 6,
   "metadata": {},
   "outputs": [],
   "source": [
    "api_key_1 = yelp_api_key_Shane\n",
    "api_key_2 = yelp_api_key_Austin\n",
    "# headers = {'Authorization': 'Bearer %s' % api_key}\n",
    "headers_1 = {'Authorization': 'Bearer %s' % api_key_1}\n",
    "headers_2 = {'Authorization': 'Bearer %s' % api_key_2}\n",
    "\n",
    "url = 'https://api.yelp.com/v3/businesses/search'\n",
    "\n",
    "params = {'term':'restaurant',\n",
    "#           'location':'Dallas',\n",
    "          'latitude': dallas_lat,\n",
    "          'longitude': dallas_lng,\n",
    "          'limit': 5,\n",
    "          'radius': 50\n",
    "         }\n",
    "\n",
    "yelp_request = requests.get(url, params=params, headers=headers_1).json()\n"
   ]
  },
  {
   "cell_type": "code",
   "execution_count": 16,
   "metadata": {},
   "outputs": [],
   "source": [
    "yelp_request = yelp_request[\"businesses\"]"
   ]
  },
  {
   "cell_type": "code",
   "execution_count": 50,
   "metadata": {},
   "outputs": [],
   "source": [
    "# yelp_request"
   ]
  },
  {
   "cell_type": "code",
   "execution_count": 51,
   "metadata": {},
   "outputs": [],
   "source": [
    "# # yelp_request\n",
    "# print(json.dumps(yelp_request, indent=4, sort_keys=True))"
   ]
  },
  {
   "cell_type": "code",
   "execution_count": 27,
   "metadata": {},
   "outputs": [
    {
     "data": {
      "text/plain": [
       "[]"
      ]
     },
     "execution_count": 27,
     "metadata": {},
     "output_type": "execute_result"
    }
   ],
   "source": [
    "# yelp_request[\"businesses\"][0][\"name\"]\n",
    "# yelp_request[0][\"name\"]\n",
    "# yelp_request[\"businesses\"][0][\"id\"]\n",
    "# yelp_request[\"businesses\"][0][\"rating\"]\n",
    "# yelp_request[\"businesses\"][0][\"review_count\"]\n",
    "# yelp_request[\"businesses\"][0][\"coordinates\"][\"latitude\"]\n",
    "# yelp_request[\"businesses\"][0][\"coordinates\"][\"longitude\"]\n",
    "# yelp_request[\"businesses\"][0][\"is_closed\"]\n",
    "# yelp_request[\"businesses\"][0][\"phone\"]\n",
    "# yelp_request[\"businesses\"][0][\"location\"][\"address1\"]\n",
    "# yelp_request[\"businesses\"][0][\"location\"][\"address2\"]\n",
    "# # yelp_request[\"businesses\"][0][\"location\"][\"address3\"]\n",
    "# yelp_request[\"businesses\"][0][\"location\"][\"city\"]\n",
    "# yelp_request[\"businesses\"][0][\"location\"][\"state\"]\n",
    "# yelp_request[\"businesses\"][0][\"location\"][\"zip_code\"]\n",
    "# yelp_request[\"businesses\"][0][\"image_url\"]\n",
    "restaurant_name\n"
   ]
  },
  {
   "cell_type": "code",
   "execution_count": 28,
   "metadata": {},
   "outputs": [],
   "source": [
    "# # for i in yelp_request:\n",
    "# for i in range(len(yelp_request)):\n",
    "# #     restaurant_name.append(yelp_request[\"businesses\"][i][\"name\"])\n",
    "# #     restaurant_id.append(yelp_request[\"businesses\"][i][\"id\"])\n",
    "# #     restaurant_rating.append(yelp_request[\"businesses\"][i][\"rating\"])\n",
    "# #     restaurant_review_count.append(yelp_request[\"businesses\"][i][\"review_count\"])\n",
    "# #     restaurant_latitude.append(yelp_request[\"businesses\"][i][\"coordinates\"][\"latitude\"])\n",
    "# #     restaurant_longitude.append(yelp_request[\"businesses\"][i][\"coordinates\"][\"longitude\"])\n",
    "# #     restaurant_is_closed.append(yelp_request[\"businesses\"][i][\"is_closed\"])\n",
    "# #     restaurant_phone.append(yelp_request[\"businesses\"][i][\"phone\"])\n",
    "# #     restaurant_address1.append(yelp_request[\"businesses\"][i][\"location\"][\"address1\"])\n",
    "# #     restaurant_address2.append(yelp_request[\"businesses\"][i][\"location\"][\"address2\"])\n",
    "# #     restaurant_address3.append(yelp_request[\"businesses\"][0][\"location\"][\"address3\"])\n",
    "# #     restaurant_city.append(yelp_request[\"businesses\"][i][\"location\"][\"city\"])\n",
    "# #     restaurant_state.append(yelp_request[\"businesses\"][i][\"location\"][\"state\"])\n",
    "# #     restaurant_zip_code.append(yelp_request[\"businesses\"][i][\"location\"][\"zip_code\"])\n",
    "# #     restaurant_image_url.append(yelp_request[\"businesses\"][i][\"image_url\"])"
   ]
  },
  {
   "cell_type": "code",
   "execution_count": 67,
   "metadata": {},
   "outputs": [],
   "source": [
    "# create empty lists for our data\n",
    "restaurant_name = []\n",
    "restaurant_id = []\n",
    "restaurant_rating = []\n",
    "restaurant_review_count = []\n",
    "restaurant_latitude = []\n",
    "restaurant_longitude = []\n",
    "restaurant_is_closed = []\n",
    "restaurant_phone = []\n",
    "restaurant_address1 = []\n",
    "restaurant_address2 = []\n",
    "restaurant_address3 = []\n",
    "restaurant_city = []\n",
    "restaurant_state = []\n",
    "restaurant_zip_code = []\n",
    "restaurant_image_url = []\n",
    "\n",
    "missing_api_result = \"\""
   ]
  },
  {
   "cell_type": "code",
   "execution_count": 68,
   "metadata": {},
   "outputs": [],
   "source": [
    "for i in range(len(yelp_request)):\n",
    "    restaurant_name.append(yelp_request[i][\"name\"])\n",
    "    restaurant_id.append(yelp_request[i][\"id\"])\n",
    "    restaurant_rating.append(yelp_request[i][\"rating\"])\n",
    "    restaurant_review_count.append(yelp_request[i][\"review_count\"])\n",
    "    restaurant_latitude.append(yelp_request[i][\"coordinates\"][\"latitude\"])\n",
    "    restaurant_longitude.append(yelp_request[i][\"coordinates\"][\"longitude\"])\n",
    "    restaurant_is_closed.append(yelp_request[i][\"is_closed\"])\n",
    "    restaurant_phone.append(yelp_request[i][\"phone\"])\n",
    "    restaurant_address1.append(yelp_request[i][\"location\"][\"address1\"])\n",
    "    restaurant_address2.append(yelp_request[i][\"location\"][\"address2\"])\n",
    "    restaurant_address3.append(yelp_request[i][\"location\"][\"address3\"])\n",
    "    restaurant_city.append(yelp_request[i][\"location\"][\"city\"])\n",
    "    restaurant_state.append(yelp_request[i][\"location\"][\"state\"])\n",
    "    restaurant_zip_code.append(yelp_request[i][\"location\"][\"zip_code\"])\n",
    "    restaurant_image_url.append(yelp_request[i][\"image_url\"])"
   ]
  },
  {
   "cell_type": "code",
   "execution_count": 72,
   "metadata": {},
   "outputs": [
    {
     "data": {
      "text/plain": [
       "['', '', '', None, '']"
      ]
     },
     "execution_count": 72,
     "metadata": {},
     "output_type": "execute_result"
    }
   ],
   "source": [
    "restaurant_address1"
   ]
  },
  {
   "cell_type": "code",
   "execution_count": 81,
   "metadata": {},
   "outputs": [],
   "source": [
    "restaurant_dict = {\"Name\": restaurant_name,\n",
    "                   \"ID\": restaurant_id,\n",
    "                   \"Rating\": restaurant_rating,\n",
    "                   \"Review Count\": restaurant_review_count,\n",
    "                   \"Latitude\": restaurant_latitude,\n",
    "                   \"Longitude\": restaurant_longitude,\n",
    "                   \"Closed?\": restaurant_is_closed,\n",
    "                   \"Phone\": restaurant_phone,\n",
    "                   \"Address1\": restaurant_address1,\n",
    "                   \"Address2\": restaurant_address2,\n",
    "#                    \"Address3\": restaurant_address3,\n",
    "                   \"City\": restaurant_city,\n",
    "                   \"State\": restaurant_state,\n",
    "                   \"Zip Code\": restaurant_zip_code,\n",
    "                   \"Image URL\": restaurant_image_url\n",
    "                  }"
   ]
  },
  {
   "cell_type": "code",
   "execution_count": 75,
   "metadata": {},
   "outputs": [
    {
     "ename": "ValueError",
     "evalue": "arrays must all be same length",
     "output_type": "error",
     "traceback": [
      "\u001b[0;31m---------------------------------------------------------------------------\u001b[0m",
      "\u001b[0;31mValueError\u001b[0m                                Traceback (most recent call last)",
      "\u001b[0;32m<ipython-input-75-35cf62eb784d>\u001b[0m in \u001b[0;36m<module>\u001b[0;34m\u001b[0m\n\u001b[0;32m----> 1\u001b[0;31m \u001b[0mrestaurant_df\u001b[0m \u001b[0;34m=\u001b[0m \u001b[0mpd\u001b[0m\u001b[0;34m.\u001b[0m\u001b[0mDataFrame\u001b[0m\u001b[0;34m(\u001b[0m\u001b[0mrestaurant_dict\u001b[0m\u001b[0;34m)\u001b[0m\u001b[0;34m\u001b[0m\u001b[0;34m\u001b[0m\u001b[0m\n\u001b[0m",
      "\u001b[0;32m~/anaconda3/lib/python3.7/site-packages/pandas/core/frame.py\u001b[0m in \u001b[0;36m__init__\u001b[0;34m(self, data, index, columns, dtype, copy)\u001b[0m\n\u001b[1;32m    409\u001b[0m             )\n\u001b[1;32m    410\u001b[0m         \u001b[0;32melif\u001b[0m \u001b[0misinstance\u001b[0m\u001b[0;34m(\u001b[0m\u001b[0mdata\u001b[0m\u001b[0;34m,\u001b[0m \u001b[0mdict\u001b[0m\u001b[0;34m)\u001b[0m\u001b[0;34m:\u001b[0m\u001b[0;34m\u001b[0m\u001b[0;34m\u001b[0m\u001b[0m\n\u001b[0;32m--> 411\u001b[0;31m             \u001b[0mmgr\u001b[0m \u001b[0;34m=\u001b[0m \u001b[0minit_dict\u001b[0m\u001b[0;34m(\u001b[0m\u001b[0mdata\u001b[0m\u001b[0;34m,\u001b[0m \u001b[0mindex\u001b[0m\u001b[0;34m,\u001b[0m \u001b[0mcolumns\u001b[0m\u001b[0;34m,\u001b[0m \u001b[0mdtype\u001b[0m\u001b[0;34m=\u001b[0m\u001b[0mdtype\u001b[0m\u001b[0;34m)\u001b[0m\u001b[0;34m\u001b[0m\u001b[0;34m\u001b[0m\u001b[0m\n\u001b[0m\u001b[1;32m    412\u001b[0m         \u001b[0;32melif\u001b[0m \u001b[0misinstance\u001b[0m\u001b[0;34m(\u001b[0m\u001b[0mdata\u001b[0m\u001b[0;34m,\u001b[0m \u001b[0mma\u001b[0m\u001b[0;34m.\u001b[0m\u001b[0mMaskedArray\u001b[0m\u001b[0;34m)\u001b[0m\u001b[0;34m:\u001b[0m\u001b[0;34m\u001b[0m\u001b[0;34m\u001b[0m\u001b[0m\n\u001b[1;32m    413\u001b[0m             \u001b[0;32mimport\u001b[0m \u001b[0mnumpy\u001b[0m\u001b[0;34m.\u001b[0m\u001b[0mma\u001b[0m\u001b[0;34m.\u001b[0m\u001b[0mmrecords\u001b[0m \u001b[0;32mas\u001b[0m \u001b[0mmrecords\u001b[0m\u001b[0;34m\u001b[0m\u001b[0;34m\u001b[0m\u001b[0m\n",
      "\u001b[0;32m~/anaconda3/lib/python3.7/site-packages/pandas/core/internals/construction.py\u001b[0m in \u001b[0;36minit_dict\u001b[0;34m(data, index, columns, dtype)\u001b[0m\n\u001b[1;32m    255\u001b[0m             \u001b[0marr\u001b[0m \u001b[0;32mif\u001b[0m \u001b[0;32mnot\u001b[0m \u001b[0mis_datetime64tz_dtype\u001b[0m\u001b[0;34m(\u001b[0m\u001b[0marr\u001b[0m\u001b[0;34m)\u001b[0m \u001b[0;32melse\u001b[0m \u001b[0marr\u001b[0m\u001b[0;34m.\u001b[0m\u001b[0mcopy\u001b[0m\u001b[0;34m(\u001b[0m\u001b[0;34m)\u001b[0m \u001b[0;32mfor\u001b[0m \u001b[0marr\u001b[0m \u001b[0;32min\u001b[0m \u001b[0marrays\u001b[0m\u001b[0;34m\u001b[0m\u001b[0;34m\u001b[0m\u001b[0m\n\u001b[1;32m    256\u001b[0m         ]\n\u001b[0;32m--> 257\u001b[0;31m     \u001b[0;32mreturn\u001b[0m \u001b[0marrays_to_mgr\u001b[0m\u001b[0;34m(\u001b[0m\u001b[0marrays\u001b[0m\u001b[0;34m,\u001b[0m \u001b[0mdata_names\u001b[0m\u001b[0;34m,\u001b[0m \u001b[0mindex\u001b[0m\u001b[0;34m,\u001b[0m \u001b[0mcolumns\u001b[0m\u001b[0;34m,\u001b[0m \u001b[0mdtype\u001b[0m\u001b[0;34m=\u001b[0m\u001b[0mdtype\u001b[0m\u001b[0;34m)\u001b[0m\u001b[0;34m\u001b[0m\u001b[0;34m\u001b[0m\u001b[0m\n\u001b[0m\u001b[1;32m    258\u001b[0m \u001b[0;34m\u001b[0m\u001b[0m\n\u001b[1;32m    259\u001b[0m \u001b[0;34m\u001b[0m\u001b[0m\n",
      "\u001b[0;32m~/anaconda3/lib/python3.7/site-packages/pandas/core/internals/construction.py\u001b[0m in \u001b[0;36marrays_to_mgr\u001b[0;34m(arrays, arr_names, index, columns, dtype)\u001b[0m\n\u001b[1;32m     75\u001b[0m     \u001b[0;31m# figure out the index, if necessary\u001b[0m\u001b[0;34m\u001b[0m\u001b[0;34m\u001b[0m\u001b[0;34m\u001b[0m\u001b[0m\n\u001b[1;32m     76\u001b[0m     \u001b[0;32mif\u001b[0m \u001b[0mindex\u001b[0m \u001b[0;32mis\u001b[0m \u001b[0;32mNone\u001b[0m\u001b[0;34m:\u001b[0m\u001b[0;34m\u001b[0m\u001b[0;34m\u001b[0m\u001b[0m\n\u001b[0;32m---> 77\u001b[0;31m         \u001b[0mindex\u001b[0m \u001b[0;34m=\u001b[0m \u001b[0mextract_index\u001b[0m\u001b[0;34m(\u001b[0m\u001b[0marrays\u001b[0m\u001b[0;34m)\u001b[0m\u001b[0;34m\u001b[0m\u001b[0;34m\u001b[0m\u001b[0m\n\u001b[0m\u001b[1;32m     78\u001b[0m     \u001b[0;32melse\u001b[0m\u001b[0;34m:\u001b[0m\u001b[0;34m\u001b[0m\u001b[0;34m\u001b[0m\u001b[0m\n\u001b[1;32m     79\u001b[0m         \u001b[0mindex\u001b[0m \u001b[0;34m=\u001b[0m \u001b[0mensure_index\u001b[0m\u001b[0;34m(\u001b[0m\u001b[0mindex\u001b[0m\u001b[0;34m)\u001b[0m\u001b[0;34m\u001b[0m\u001b[0;34m\u001b[0m\u001b[0m\n",
      "\u001b[0;32m~/anaconda3/lib/python3.7/site-packages/pandas/core/internals/construction.py\u001b[0m in \u001b[0;36mextract_index\u001b[0;34m(data)\u001b[0m\n\u001b[1;32m    366\u001b[0m             \u001b[0mlengths\u001b[0m \u001b[0;34m=\u001b[0m \u001b[0mlist\u001b[0m\u001b[0;34m(\u001b[0m\u001b[0mset\u001b[0m\u001b[0;34m(\u001b[0m\u001b[0mraw_lengths\u001b[0m\u001b[0;34m)\u001b[0m\u001b[0;34m)\u001b[0m\u001b[0;34m\u001b[0m\u001b[0;34m\u001b[0m\u001b[0m\n\u001b[1;32m    367\u001b[0m             \u001b[0;32mif\u001b[0m \u001b[0mlen\u001b[0m\u001b[0;34m(\u001b[0m\u001b[0mlengths\u001b[0m\u001b[0;34m)\u001b[0m \u001b[0;34m>\u001b[0m \u001b[0;36m1\u001b[0m\u001b[0;34m:\u001b[0m\u001b[0;34m\u001b[0m\u001b[0;34m\u001b[0m\u001b[0m\n\u001b[0;32m--> 368\u001b[0;31m                 \u001b[0;32mraise\u001b[0m \u001b[0mValueError\u001b[0m\u001b[0;34m(\u001b[0m\u001b[0;34m\"arrays must all be same length\"\u001b[0m\u001b[0;34m)\u001b[0m\u001b[0;34m\u001b[0m\u001b[0;34m\u001b[0m\u001b[0m\n\u001b[0m\u001b[1;32m    369\u001b[0m \u001b[0;34m\u001b[0m\u001b[0m\n\u001b[1;32m    370\u001b[0m             \u001b[0;32mif\u001b[0m \u001b[0mhave_dicts\u001b[0m\u001b[0;34m:\u001b[0m\u001b[0;34m\u001b[0m\u001b[0;34m\u001b[0m\u001b[0m\n",
      "\u001b[0;31mValueError\u001b[0m: arrays must all be same length"
     ]
    }
   ],
   "source": [
    "restaurant_df = pd.DataFrame(restaurant_dict)"
   ]
  },
  {
   "cell_type": "code",
   "execution_count": 72,
   "metadata": {},
   "outputs": [
    {
     "ename": "NameError",
     "evalue": "name 'restaurant_df' is not defined",
     "output_type": "error",
     "traceback": [
      "\u001b[0;31m---------------------------------------------------------------------------\u001b[0m",
      "\u001b[0;31mNameError\u001b[0m                                 Traceback (most recent call last)",
      "\u001b[0;32m<ipython-input-72-67436c3ff776>\u001b[0m in \u001b[0;36m<module>\u001b[0;34m\u001b[0m\n\u001b[0;32m----> 1\u001b[0;31m \u001b[0mrestaurant_df\u001b[0m\u001b[0;34m\u001b[0m\u001b[0;34m\u001b[0m\u001b[0m\n\u001b[0m",
      "\u001b[0;31mNameError\u001b[0m: name 'restaurant_df' is not defined"
     ]
    }
   ],
   "source": [
    "restaurant_df"
   ]
  },
  {
   "cell_type": "code",
   "execution_count": 19,
   "metadata": {},
   "outputs": [
    {
     "name": "stdout",
     "output_type": "stream",
     "text": [
      "dallas\n"
     ]
    }
   ],
   "source": [
    "# Dallas, TX, US Lat/Long: 32.7767° N, 96.7970° W\n",
    "dallas_lat = 32.7767\n",
    "dallas_lng = -96.7970\n",
    "\n",
    "# testcity = citipy.nearest_city(dallas_lat,dallas_lng).city_name\n",
    "testcity = citipy.nearest_city(dallas_lat,dallas_lng).city_name\n",
    "print(testcity)"
   ]
  },
  {
   "cell_type": "code",
   "execution_count": 20,
   "metadata": {},
   "outputs": [
    {
     "data": {
      "text/plain": [
       "'https://api.yelp.com/v3/businesses/search'"
      ]
     },
     "execution_count": 20,
     "metadata": {},
     "output_type": "execute_result"
    }
   ],
   "source": [
    "base_url"
   ]
  },
  {
   "cell_type": "code",
   "execution_count": null,
   "metadata": {},
   "outputs": [],
   "source": []
  }
 ],
 "metadata": {
  "kernelspec": {
   "display_name": "Python 3",
   "language": "python",
   "name": "python3"
  },
  "language_info": {
   "codemirror_mode": {
    "name": "ipython",
    "version": 3
   },
   "file_extension": ".py",
   "mimetype": "text/x-python",
   "name": "python",
   "nbconvert_exporter": "python",
   "pygments_lexer": "ipython3",
   "version": "3.7.4"
  }
 },
 "nbformat": 4,
 "nbformat_minor": 4
}
