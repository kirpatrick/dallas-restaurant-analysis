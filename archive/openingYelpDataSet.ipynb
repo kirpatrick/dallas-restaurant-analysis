{
 "cells": [
  {
   "cell_type": "markdown",
   "metadata": {},
   "source": [
    "Large data work flows using pandas\n",
    "https://stackoverflow.com/questions/14262433/large-data-work-flows-using-pandas"
   ]
  },
  {
   "cell_type": "code",
   "execution_count": 1,
   "metadata": {},
   "outputs": [],
   "source": [
    "import pandas as pd\n",
    "import json\n",
    "import sys\n",
    "import os"
   ]
  },
  {
   "cell_type": "code",
   "execution_count": 2,
   "metadata": {},
   "outputs": [],
   "source": [
    "# This works!!!\n",
    "# https://stackoverflow.com/questions/50999768/read-from-line-to-line-yelp-dataset-by-python\n",
    "\n",
    "# Yelp review detail\n",
    "revu=[]\n",
    "with open(\"review.json\", 'r',encoding=\"utf8\") as f:\n",
    "    \n",
    "    # Load subset of data\n",
    "    # Will try to loop through when looking for specific review\n",
    "    revu = [json.loads(s) for s in f.readlines()[1400001:1450000]]\n",
    "    \n",
    "    # Will run out of memory\n",
    "    #revu = [json.loads(s) for s in f.readlines()[:]]"
   ]
  },
  {
   "cell_type": "code",
   "execution_count": 3,
   "metadata": {
    "scrolled": true
   },
   "outputs": [
    {
     "data": {
      "text/plain": [
       "{'review_id': 'JTU1q1Hqb3M2vwVW98vuYg',\n",
       " 'user_id': '6XRavd6UBlIZb3vXyRBvJQ',\n",
       " 'business_id': 'OBLv8e0RvwqBl0Gkoj-bDA',\n",
       " 'stars': 3.0,\n",
       " 'useful': 1,\n",
       " 'funny': 0,\n",
       " 'cool': 1,\n",
       " 'text': 'This place isn\\'t what it is all hyped up to be. I\\'ve been here 2 times total. The first time was when my boyfriend took me and had set up their special romance package ahead of time. That includes a dozen roses, Champagne and two flute glasses, four-course Big Night Out® meal, picture in a pewter frame, private booth for two with curtains for $150.  Though I do not believe there were any roses and we did not get a picture in a pewter frame either. We did enjoy their cheese fondue (we chose the spinach and artichoke). Their wedge salad wasn\\'t anything special. \\nOur least favorite parts of the 4-course meal was the entrée. They give you 4-5 different meats that you cook for yourself in the pot if boiling water in the middle of your table. Each item cooks at different lengths, which my boyfriend disliked because the instructions were long and confusing. After we\\'d cooked all the meat and eaten we were very disappointed. There was hardly any flavor to it unless you dipped it in one of the 8 sauces they give you. \\nThe dessert was our favorite part of the meal, though we wouldn\\'t go as far as to say it was phenomenal by any means. \\nAll in all this experience was not worth the price tag.\\nMy most recent visit was for their \"Girls Night Out\" on Mondays. Food-wise the experience was the same but the price was better! And the best of all was their signature drinks. I would go back for their martini\\'s, though they aren\\'t strong they are delicious!',\n",
       " 'date': '2014-04-22 15:00:29'}"
      ]
     },
     "execution_count": 3,
     "metadata": {},
     "output_type": "execute_result"
    }
   ],
   "source": [
    "revu[0]"
   ]
  },
  {
   "cell_type": "code",
   "execution_count": 4,
   "metadata": {},
   "outputs": [],
   "source": [
    "# Yelp business information\n",
    "bus=[]\n",
    "with open(\"business.json\", 'r',encoding=\"utf8\") as f:\n",
    "    \n",
    "    # Load entire dataset\n",
    "    bus = [json.loads(s) for s in f.readlines()[:]]"
   ]
  },
  {
   "cell_type": "code",
   "execution_count": 5,
   "metadata": {},
   "outputs": [
    {
     "data": {
      "text/plain": [
       "{'business_id': '1SWheh84yJXfytovILXOAQ',\n",
       " 'name': 'Arizona Biltmore Golf Club',\n",
       " 'address': '2818 E Camino Acequia Drive',\n",
       " 'city': 'Phoenix',\n",
       " 'state': 'AZ',\n",
       " 'postal_code': '85016',\n",
       " 'latitude': 33.5221425,\n",
       " 'longitude': -112.0184807,\n",
       " 'stars': 3.0,\n",
       " 'review_count': 5,\n",
       " 'is_open': 0,\n",
       " 'attributes': {'GoodForKids': 'False'},\n",
       " 'categories': 'Golf, Active Life',\n",
       " 'hours': None}"
      ]
     },
     "execution_count": 5,
     "metadata": {},
     "output_type": "execute_result"
    }
   ],
   "source": [
    "bus[0]"
   ]
  },
  {
   "cell_type": "code",
   "execution_count": null,
   "metadata": {},
   "outputs": [],
   "source": []
  }
 ],
 "metadata": {
  "kernelspec": {
   "display_name": "Python 3",
   "language": "python",
   "name": "python3"
  },
  "language_info": {
   "codemirror_mode": {
    "name": "ipython",
    "version": 3
   },
   "file_extension": ".py",
   "mimetype": "text/x-python",
   "name": "python",
   "nbconvert_exporter": "python",
   "pygments_lexer": "ipython3",
   "version": "3.7.4"
  }
 },
 "nbformat": 4,
 "nbformat_minor": 2
}
