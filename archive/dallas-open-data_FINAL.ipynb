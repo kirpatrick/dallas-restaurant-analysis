{
 "cells": [
  {
   "cell_type": "markdown",
   "execution_count": null,
   "metadata": {},
   "outputs": [],
   "source": [
    "# Dallas Restaurant Analysis\n",
    "\n",
    "### Researcher(s):  \n",
    "\n",
    "### Date:  February 1, 2020\n",
    "\n",
    "### Source(s):\n",
    "- [Dallas Open Data - Restaurant and Food Establishment Inspections](https://www.dallasopendata.com/browse?category=City+Services&provenance=official)\n",
    "- [Google Places API](https://developers.google.com/places/web-service/intro)\n",
    "- [Yelp Fusion API](https://www.yelp.com/developers/documentation/v3)\n",
    "\n",
    "## Summary\n",
    "#### The purpose of this study...\n",
    "#### Analysis details (python code) is intentionally viewable.\n",
    "#### Analysis will provide:\n",
    "* TBD\n",
    "* TBD\n",
    "* TBD\n",
    "\n",
    "## Analysis Results Overview\n",
    "#### Initial Analysis ...:\n",
    "  - \n",
    "  - \n",
    "  - \n",
    "\n",
    "#### Differences ....\n",
    "\n",
    "*See analysis for details.*\n",
    "\n",
    "### Possible next steps...\n",
    "#### ...."
   ]
  },
  {
   "cell_type": "code",
   "execution_count": 1,
   "metadata": {},
   "outputs": [],
   "source": [
    "# Dependencies\n",
    "import pandas as pd\n",
    "import csv"
   ]
  },
  {
   "cell_type": "code",
   "execution_count": 2,
   "metadata": {},
   "outputs": [],
   "source": [
    "# Load in raw Dallas Open Data\n",
    "raw_dallas_open_data = 'dallas_open_data/Restaurant_and_Food_Establishment_Inspections__October_2016_to_Present_.csv'"
   ]
  },
  {
   "cell_type": "code",
   "execution_count": 3,
   "metadata": {
    "scrolled": true
   },
   "outputs": [],
   "source": [
    "# Read and display the CSV with Pandas\n",
    "raw_dallas_open_data_pd = pd.read_csv(raw_dallas_open_data, low_memory=False)\n",
    "#dallas_open_data_pd.head()"
   ]
  },
  {
   "cell_type": "code",
   "execution_count": 4,
   "metadata": {},
   "outputs": [
    {
     "data": {
      "text/plain": [
       "42070"
      ]
     },
     "execution_count": 4,
     "metadata": {},
     "output_type": "execute_result"
    }
   ],
   "source": [
    "# Clean and extract specific columns for analysis\n",
    "\n",
    "restaurant_name = raw_dallas_open_data_pd['Restaurant Name'].str.extract('([a-zA-Z0-9&+.\"\\'\"\"\\-\" ]+)', expand=False).str.strip()\n",
    "inspection_type = raw_dallas_open_data_pd['Inspection Type']\n",
    "inspection_date = raw_dallas_open_data_pd['Inspection Date'].astype('datetime64[ns]')\n",
    "inspection_score = raw_dallas_open_data_pd['Inspection Score']\n",
    "street_number = raw_dallas_open_data_pd['Street Number'].astype('str')\n",
    "street_name = raw_dallas_open_data_pd['Street Name']\n",
    "street_unit = raw_dallas_open_data_pd['Street Unit'].fillna('').astype('str')\n",
    "zip_code = raw_dallas_open_data_pd['Zip Code']\n",
    "street_address = raw_dallas_open_data_pd['Street Address']\n",
    "\n",
    "# Use the inspection date's month and year for inspection_month for consistency\n",
    "inspection_month = raw_dallas_open_data_pd['Inspection Date'].astype('datetime64[ns]').dt.strftime('%m/%y')\n",
    "\n",
    "# Dallas Open Data Given Fiscal Year Report Reported\n",
    "inspection_year = raw_dallas_open_data_pd['Inspection Year']\n",
    "\n",
    "# Check record count.  Should be 42,070\n",
    "len(restaurant_name)"
   ]
  },
  {
   "cell_type": "code",
   "execution_count": 5,
   "metadata": {},
   "outputs": [],
   "source": [
    "#Save data tp dataframe\n",
    "clean_dallas_open_data_pd = pd.DataFrame({\n",
    "    'restaurant_name':restaurant_name,\n",
    "    'inspection_type':inspection_type,\n",
    "    'inspection_date':inspection_date,\n",
    "    'inspection_score':inspection_score,\n",
    "    'street_number':street_number,\n",
    "    'street_name':street_name,\n",
    "    'street_unit':street_unit,\n",
    "    'zip_code':zip_code,\n",
    "    'street_address':street_address,\n",
    "    'inspection_month':inspection_month,\n",
    "    'inspection_year':inspection_year\n",
    "})\n",
    "# Confirm expected output & record count of 42,070\n",
    "#clean_dallas_open_data_pd"
   ]
  },
  {
   "cell_type": "code",
   "execution_count": 6,
   "metadata": {},
   "outputs": [],
   "source": [
    "# Keep unique record by street address & save to dataframe\n",
    "unique_dallas_open_data_pd = pd.DataFrame({\n",
    "    'restaurant_name':restaurant_name,\n",
    "    'inspection_type':inspection_type,\n",
    "    'inspection_date':inspection_date,\n",
    "    'inspection_score':inspection_score,\n",
    "    'street_number':street_number,\n",
    "    'street_name':street_name,\n",
    "    'street_unit':street_unit,\n",
    "    'zip_code':zip_code,\n",
    "    'street_address':street_address,\n",
    "    'inspection_month':inspection_month,\n",
    "    'inspection_year':inspection_year\n",
    "}).drop_duplicates(subset=['street_address'])\n",
    "\n",
    "# Display dataframe\n",
    "#unique_dallas_open_data_pd.info()"
   ]
  },
  {
   "cell_type": "code",
   "execution_count": 7,
   "metadata": {},
   "outputs": [],
   "source": [
    "# Output File (CSV)\n",
    "unique_dallas_open_data_output = \"./dallas_open_data/Unique_bus_dal_open_data_2019.csv\"\n",
    "\n",
    "# write dataframe to the csv\n",
    "unique_dallas_open_data_pd.to_csv(unique_dallas_open_data_output, sep=',', encoding='utf-8', index=False)"
   ]
  },
  {
   "cell_type": "code",
   "execution_count": null,
   "metadata": {},
   "outputs": [],
   "source": []
  }
 ],
 "metadata": {
  "kernelspec": {
   "display_name": "Python 3",
   "language": "python",
   "name": "python3"
  },
  "language_info": {
   "codemirror_mode": {
    "name": "ipython",
    "version": 3
   },
   "file_extension": ".py",
   "mimetype": "text/x-python",
   "name": "python",
   "nbconvert_exporter": "python",
   "pygments_lexer": "ipython3",
   "version": "3.7.4"
  }
 },
 "nbformat": 4,
 "nbformat_minor": 2
}